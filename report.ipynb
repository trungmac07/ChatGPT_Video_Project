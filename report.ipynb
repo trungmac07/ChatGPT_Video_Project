{
 "cells": [
  {
   "cell_type": "markdown",
   "metadata": {},
   "source": [
    "# Báo cáo đồ án Video"
   ]
  },
  {
   "cell_type": "markdown",
   "metadata": {},
   "source": [
    "## Thành Viên\n",
    "\n",
    "|MSSV|Họ Tên|\n",
    "|----|------|\n",
    "|21127403 | Nguyễn Minh Quân|\n",
    "|21127367 | Đỗ Thế Nghĩa|\n",
    "|21127384 | Dương Hạnh Nhi|\n",
    "|21127461 | Lê Thành Trung|\n",
    "|21127462 | Mạc Tuấn Trung|"
   ]
  },
  {
   "cell_type": "markdown",
   "metadata": {},
   "source": [
    "## Mô Hình Ngôn Ngữ"
   ]
  },
  {
   "cell_type": "markdown",
   "metadata": {},
   "source": [
    "Mô hình ngôn ngữ là mô hình xác suất của ngôn ngữ tự nhiên. Đây là một mô hình trí tuệ nhân tạo hoàn thành một câu bằng cách dự đoán từ tiếp theo sẽ xuất hiện sau các từ đã có trước. \n"
   ]
  },
  {
   "cell_type": "markdown",
   "metadata": {},
   "source": [
    "Mô hình ngôn ngữ học từ sự phân bố xác suất trên các từ hoặc chuỗi từ. Trong thực tế, nó đưa ra xác suất để một chuỗi từ nhất định là “hợp lệ”. Sự hợp lệ này không đề cập đến giá trị ngữ pháp mà thay vào đó, câu hợp lệ số giống với cách mọi người viết, đó là những gì mô hình ngôn ngữ học được."
   ]
  },
  {
   "cell_type": "markdown",
   "metadata": {},
   "source": [
    "Giả sử chúng ta có một câu chưa hoàn chỉnh sau:"
   ]
  },
  {
   "cell_type": "markdown",
   "metadata": {},
   "source": [
    "<center><b>Hôm nay tôi ...</b></center>"
   ]
  },
  {
   "cell_type": "markdown",
   "metadata": {},
   "source": [
    "Từ những từ trước đó và dựa trên những gì mà mô hình học được trong quá trình huấn luyện, mô hình có thể sẽ dự đoán từ tiếp theo trong câu này. Một số ví dụ như:"
   ]
  },
  {
   "cell_type": "markdown",
   "metadata": {},
   "source": [
    "<center><b>Hôm nay tôi<span style=\"color:red\"> học</span></b></center>"
   ]
  },
  {
   "cell_type": "markdown",
   "metadata": {},
   "source": [
    "<center><b>Hôm nay tôi<span style=\"color:red\"> đi</span></b></center>"
   ]
  },
  {
   "cell_type": "markdown",
   "metadata": {},
   "source": [
    "<center><b>Hôm nay tôi<span style=\"color:red\"> làm</span></b></center>"
   ]
  },
  {
   "cell_type": "markdown",
   "metadata": {},
   "source": [
    "Thực tế có 2 loại mô hình ngôn ngữ phổ biến"
   ]
  },
  {
   "cell_type": "markdown",
   "metadata": {},
   "source": [
    "### Mô hình ngôn ngữ dựa trên xác suất thống kê"
   ]
  },
  {
   "cell_type": "markdown",
   "metadata": {},
   "source": [
    "Mô hình ngôn ngữ thống kê học xác suất xuất hiện của từ dựa trên các ví dụ về văn bản. Dựa trên những thống kê và tần suất xuất hiện của các từ, mô hình ngôn ngữ dựa trên xác suất sẽ dự đoán từ tiếp theo trong câu dựa trên những từ trước đó trong câu."
   ]
  },
  {
   "cell_type": "markdown",
   "metadata": {},
   "source": [
    "#### Mô hình ngôn ngữ Unigram"
   ]
  },
  {
   "cell_type": "markdown",
   "metadata": {},
   "source": [
    "Mô hình ngôn ngữ Unigram là một trong những mô hình đơn giản trong lĩnh vực xử lý ngôn ngữ tự nhiên (NLP). Được sử dụng để đánh giá và mô tả xác suất xuất hiện của mỗi từ đơn trong một ngôn ngữ, mô hình Unigram giúp hiểu rất tốt về cấu trúc ngôn ngữ và sự phụ thuộc giữa các từ."
   ]
  },
  {
   "cell_type": "markdown",
   "metadata": {},
   "source": [
    "Giả sử ta có một câu cấu thành từ các từ:\n",
    "$$t_1,t_2,t_3,...t_n$$"
   ]
  },
  {
   "cell_type": "markdown",
   "metadata": {},
   "source": [
    "Xác suất của câu này sẽ là:\n",
    "$$P(t_1,t_2,t_3,…,t_𝑛 )=P(t_1 )  P(t_2 )  P(t_3 )…P(t_n)$$\n"
   ]
  },
  {
   "cell_type": "markdown",
   "metadata": {},
   "source": [
    "Một ví dụ thực tế như sau:\n",
    "<center>Hôm nay là một ngày đẹp trời bạn muốn đi dã ngoại hay bạn muốn ở nhà?</center>"
   ]
  },
  {
   "cell_type": "markdown",
   "metadata": {},
   "source": [
    "Một vài dòng code Python sau đây sẽ giúp ví dụ dễ hiểu hơn"
   ]
  },
  {
   "cell_type": "markdown",
   "metadata": {},
   "source": [
    "Đầu tiên ta chuẩn bị đoạn dữ liệu trên"
   ]
  },
  {
   "cell_type": "code",
   "execution_count": 28,
   "metadata": {},
   "outputs": [],
   "source": [
    "# Dữ liệu văn bản\n",
    "text = \"Hôm nay là một ngày đẹp trời bạn muốn đi dã ngoại hay bạn muốn ở nhà?\"\n",
    "\n",
    "# Chuyển đổi thành danh sách các từ\n",
    "words = text.split()"
   ]
  },
  {
   "cell_type": "markdown",
   "metadata": {},
   "source": [
    "Bước tính xác suất"
   ]
  },
  {
   "cell_type": "code",
   "execution_count": 29,
   "metadata": {},
   "outputs": [
    {
     "name": "stdout",
     "output_type": "stream",
     "text": [
      "Xác suất của các từ: \n",
      "trời : 0.058823529411764705\n",
      "bạn : 0.11764705882352941\n",
      "Hôm : 0.058823529411764705\n",
      "một : 0.058823529411764705\n",
      "ngày : 0.058823529411764705\n",
      "muốn : 0.11764705882352941\n",
      "ngoại : 0.058823529411764705\n",
      "hay : 0.058823529411764705\n",
      "ở : 0.058823529411764705\n",
      "nhà? : 0.058823529411764705\n",
      "nay : 0.058823529411764705\n",
      "đi : 0.058823529411764705\n",
      "dã : 0.058823529411764705\n",
      "là : 0.058823529411764705\n",
      "đẹp : 0.058823529411764705\n"
     ]
    }
   ],
   "source": [
    "# Tính xác suất cho mỗi từ sử dụng mô hình Unigram\n",
    "unigram_probabilities = {}\n",
    "total_words = len(words)\n",
    "\n",
    "for word in set(words):\n",
    "    word_count = words.count(word)\n",
    "    probability = word_count / total_words\n",
    "    unigram_probabilities[word] = probability\n",
    "\n",
    "# In kết quả\n",
    "print(\"Xác suất của các từ: \")\n",
    "for key,value in unigram_probabilities.items():\n",
    "    print(key,\":\",value)"
   ]
  },
  {
   "cell_type": "markdown",
   "metadata": {},
   "source": [
    "Với rất nhiều văn bản dữ liệu có thể được mô tả thành bảng như sau:"
   ]
  },
  {
   "cell_type": "markdown",
   "metadata": {},
   "source": [
    "|Từ |Văn bản 1| Văn bản 2|...|\n",
    "|---|---------|----------|---|\n",
    "|Tôi| 0.051   |0.039     |...|\n",
    "|Là | 0.031   |0.011     |...|\n",
    "|Anh| 0.012   |0.007     |...|\n",
    "|Đi | 0.001   |0.002     |...|"
   ]
  },
  {
   "cell_type": "markdown",
   "metadata": {},
   "source": [
    "#### Mô hình ngôn ngữ Bigram"
   ]
  },
  {
   "cell_type": "markdown",
   "metadata": {},
   "source": [
    "Dựa trên cách tiếp cận tương tự như Unigram, mô hình ngôn ngữ Bigram được mở rộng ý tưởng từ mô hình Unigram bằng cách thay vì tính xác suất các từ riêng lẻ, Bigram sẽ xem xét sự phụ thuộc giữa các từ theo cặp liên tiếp. "
   ]
  },
  {
   "cell_type": "markdown",
   "metadata": {},
   "source": [
    "Trong mô hình Bigram, giả định rằng xác suất xuất hiện của một từ phụ thuộc vào từ liền trước nó. Điều này giúp mô hình hiểu được mối quan hệ giữa các từ theo cặp liên tiếp, tăng cường khả năng dự đoán từ tiếp theo trong một chuỗi văn bản."
   ]
  },
  {
   "cell_type": "markdown",
   "metadata": {},
   "source": [
    "Giả sử ta có một câu cấu thành từ các từ:\n",
    "$$t_1,t_2,t_3,...t_n$$"
   ]
  },
  {
   "cell_type": "markdown",
   "metadata": {},
   "source": [
    "Xác suất của câu này sẽ là:\n",
    "$$P(t_1,t_2,t_3,…,t_𝑛 )=P(t_1 )  P(t_2|t_1 )  P(t_3|t_2 )…P(t_n|t_{n-1})$$"
   ]
  },
  {
   "cell_type": "markdown",
   "metadata": {},
   "source": [
    "Tiếp tục với câu ví dụ trên\n",
    "\n",
    "<center>Hôm nay là một ngày đẹp trời bạn muốn đi dã ngoại hay bạn muốn ở nhà?</center>"
   ]
  },
  {
   "cell_type": "markdown",
   "metadata": {},
   "source": [
    "Ta lập bảng cho mô hình Bigram như sau:"
   ]
  },
  {
   "cell_type": "markdown",
   "metadata": {},
   "source": [
    "|       |Hôm|nay|là|một|ngày|đẹp|trời|bạn|muốn|đi|dã|ngoại|hay |ở |nhà?|\n",
    "|-------|---|---|--|---|----|---|----|---|----|--|--|-----|---|--|----|\n",
    "|<b> Hôm  </b>  | 0 | 0 | 0| 0 | 0  | 0 | 0  | 0 | 0  |0 | 0| 0   | 0 | 0| 0  |\n",
    "|<b> nay  </b> | 1 | 0 | 0| 0 | 0  | 0 | 0  | 0 | 0  |0 | 0| 0   | 0 | 0| 0  |\n",
    "|<b> là   </b> | 0 | 1 | 0| 0 | 0  | 0 | 0  | 0 | 0  |0 | 0| 0   | 0 | 0| 0  |\n",
    "|<b> một  </b> | 0 | 0 |1 | 0 | 0  | 0 | 0  | 0 | 0  |0 | 0| 0   | 0 | 0| 0  |\n",
    "|<b> ngày </b> | 0 | 0 | 0| 1 | 0  | 0 | 0  | 0 | 0  |0 | 0| 0   | 0 | 0| 0  |\n",
    "|<b> đẹp  </b> | 0 | 0 | 0| 0 | 1  | 0 | 0  | 0 | 0  |0 | 0| 0   | 0 | 0| 0  |\n",
    "|<b> trời </b> | 0 | 0 | 0| 0 | 0  |1  | 0  | 0 | 0  |0 | 0| 0   | 0 | 0| 0  |\n",
    "|<b> bạn  </b> | 0 | 0 | 0| 0 | 0  | 0 | 1  | 0 | 0  |0 | 0| 0   | 0 | 0| 0  |\n",
    "|<b> muốn </b> | 0 | 0 | 0| 0 | 0  | 0 | 0  | 1 | 0  |0 | 0| 0   | 0 | 0| 0  |\n",
    "|<b> đi   </b> | 0 | 0 | 0| 0 | 0  | 0 | 0  | 0 |0.5 |0 | 0| 0   | 0 | 0| 0  |\n",
    "|<b> dã   </b> | 0 | 0 | 0| 0 | 0  | 0 | 0  | 0 | 0  |1 | 0| 0   | 0 | 0| 0  |\n",
    "|<b> ngoại</b> | 0 | 0 | 0| 0 | 0  | 0 | 0  | 0 | 0  |0 |1 | 0   | 0 | 0| 0  |\n",
    "|<b> hay  </b> | 0 | 0 | 0| 0 | 0  | 0 | 0  | 0 | 0  |0 | 0| 1   | 0 | 0| 0  |\n",
    "|<b> ở    </b> | 0 | 0 | 0| 0 | 0  | 0 | 0  | 0 |0.5 |0 | 0| 0   | 0 | 0| 0  |\n",
    "|<b> nhà? </b> | 0 | 0 | 0| 0 | 0  | 0 | 0  | 0 | 0  |0 | 0| 0   | 0 | 1| 0  |"
   ]
  },
  {
   "cell_type": "markdown",
   "metadata": {},
   "source": [
    "#### Mô hình ngôn ngữ N-grams"
   ]
  },
  {
   "cell_type": "markdown",
   "metadata": {},
   "source": [
    "Với Unigram là xác suất các từ đơn lẻ\n",
    "Với Bigram là xác suất các cặp từ xuất hiện\n",
    "Còn với N-grams, đây là một phương pháp thống kê sử dụng trong xử lý ngôn ngữ để mô tả xác suất xuất hiện của một chuỗi các từ (nhiều từ với N là số từ trong một chuỗi) dựa trên một lịch sử cụ thể của các từ trước đó (thường được học từ các văn bản có sẵn)."
   ]
  },
  {
   "cell_type": "markdown",
   "metadata": {},
   "source": [
    "Trong N-grams, \"N\" thường được sử dụng để chỉ số lượng các từ được xem xét cùng một lúc. Ví dụ:\n",
    "\n",
    "Trong mô hình bigram (N=2), xác suất xuất hiện của từng từ phụ thuộc vào từ trước nó.\\\n",
    "Trong mô hình trigram (N=3), xác suất xuất hiện của từng từ phụ thuộc vào cả hai từ trước nó."
   ]
  },
  {
   "cell_type": "markdown",
   "metadata": {},
   "source": [
    "Giả sử ta có một câu cấu thành từ các từ:\n",
    "$$t_1,t_2,t_3,...t_n$$"
   ]
  },
  {
   "cell_type": "markdown",
   "metadata": {},
   "source": [
    "Lúc này Mô hình N-grams tập trung vào xác suất điều kiện của một từ dựa trên N-1 từ trước đó. Điều này được biểu diễn bằng công thức:\n",
    "$$P(t_n|t_1,t_2,...,t_{n-1})$$"
   ]
  },
  {
   "cell_type": "markdown",
   "metadata": {},
   "source": [
    "### Mô hình ngôn ngữ dựa trên mạng nơ ron"
   ]
  },
  {
   "cell_type": "markdown",
   "metadata": {},
   "source": [
    "#### Vấn đề ở mô hình ngôn ngữ xác suất"
   ]
  },
  {
   "cell_type": "markdown",
   "metadata": {},
   "source": [
    "Giả sử câu sau:"
   ]
  },
  {
   "cell_type": "markdown",
   "metadata": {},
   "source": [
    "<center> Tôi nghĩ là chú chó ăn xong bữa ăn rồi </center>"
   ]
  },
  {
   "cell_type": "markdown",
   "metadata": {},
   "source": [
    "Với mô hình xác suất ta có \n",
    "$$P(\\text{ăn}|\\text{chú chó})$$\n",
    "Điều này sẽ giúp mô hình dự đoán được từ \"ăn\" sau \"chú chó\""
   ]
  },
  {
   "cell_type": "markdown",
   "metadata": {},
   "source": [
    "Tuy nhiên nếu ta thay đổi \"chú chó\" thành \"chú mèo\". \n",
    "<center>Tôi nghĩ là chú mèo ăn xong bữa ăn rồi</center>\n",
    "\n",
    "Điều này gây khó khăn cho mô hình ngôn ngữ dựa trên xác suất bởi vì trong dữ liệu học nếu như thiếu đi cụm \"chú mèo ăn\" đồng nghĩa với việc\n",
    "\n",
    "$$P(\\text{ăn}|\\text{chú mèo}) = 0$$\n",
    "\n",
    "Mô hình sẽ không thể nào dự đoán được từ \"ăn\" nếu trước đó là \"chú mèo\""
   ]
  },
  {
   "cell_type": "markdown",
   "metadata": {},
   "source": [
    "#### Words Embedding"
   ]
  },
  {
   "cell_type": "markdown",
   "metadata": {},
   "source": [
    "Với kỹ thuật nhúng (embedding), tức là chuyển các từ về dạng vector đặc trưng tương ứng với từ đó, ta sẽ nhận được 2 vector đặc trưng từ 2 từ khác nhau là \"chó\" và \"mèo\"\n",
    "\n",
    "Và với mô hình mạng nơ ron sẽ tìm thấy điểm tương đồng giữa 2 vector đặc trưng này. Điều này giúp ích rất nhiều cho mô hình ngôn ngữ của chúng ta dự đoán chính xác từ \"ăn\" dù cho \"chú mèo ăn\" xuất hiện ít hoặc chưa từng xuất hiện trong bộ dữ liệu huấn luyện"
   ]
  },
  {
   "cell_type": "markdown",
   "metadata": {},
   "source": [
    "<center><image src=\"https://i.imgur.com/bLvLuTq.png\" height=50% width=50%}/></center>"
   ]
  },
  {
   "cell_type": "markdown",
   "metadata": {},
   "source": [
    "#### Cách hoạt động"
   ]
  },
  {
   "cell_type": "markdown",
   "metadata": {},
   "source": [
    "<center><image alt=\"Sơ đồ mô hình ngôn ngữ mạng nơ rơn đơn giản\" src=\"https://i.imgur.com/iqE2JgN.png\" width = 50% height=50%></center>"
   ]
  },
  {
   "cell_type": "markdown",
   "metadata": {},
   "source": [
    "**Lớp đầu vào (Input layer)**\n",
    "\n",
    "Ta sẽ có một từ điển là một tập hợp chứa toàn bộ các từ mà mô hình đã học được. Ở đây ta ký hiệu nó là $V$\\\n",
    "Dựa trên loại mô hình ta sẽ có một cửa sổ trượt trên $N$ từ đã được tạo ra trước đó để xác định xác suất cho từ tiếp theo.\\\n",
    "Với mỗi từ được chọn như vậy, ta sẽ tạo một one-hot vector (vector chỉ toàn 0 và chỉ bằng 1 tại vị trí của từ đó trong từ điển $V$)\\\n",
    "Ví dụ với từ \"ăn\" nằm ở vị trí thứ 97 trong từ điển $V$ và $x$ là one-hot vector của \"ăn\":\n",
    "$$ x = \\begin{bmatrix}\n",
    "x_1 \\\\\n",
    "x_2 \\\\\n",
    "... \\\\\n",
    "x_{|V|}\n",
    "\\end{bmatrix}\\\\ $$\n",
    "\n",
    "$$x_{97} = 1 \\>\\> \\text{và} \\>\\> x_i = 0 \\>\\>\\>\\> \\forall i \\neq 97$$\n"
   ]
  },
  {
   "cell_type": "markdown",
   "metadata": {},
   "source": [
    "**Lớp nhúng (Embedding layer)**\n",
    "\n",
    "Đây là lớp thực hiện chức năng chuyển đổi một từ thành một vector đặc trưng của chúng.\\\n",
    "Tại đây, một ma trận mã hóa $E$ có kích thước $n \\times |V|$ sẽ được nhân với các one-hot vector được xây dựng từ lớp đầu vào.\\\n",
    "Do one-hot vector là một vector toàn 0 và chỉ bằng 1 tại vị trí từ đó xuất hiện trong từ điển, phép nhân ma trận trên đồng nghĩa với việc ta rút trích ra cột tương ứng chứa vector mã hóa cho từ \n",
    "<center><image src=\"https://i.imgur.com/3u3jvKt.png\" width=50% height=50%></center>"
   ]
  },
  {
   "cell_type": "markdown",
   "metadata": {},
   "source": [
    "**Các lớp ẩn (Hidden layers)**\n",
    "\n",
    "Mô hình ngôn ngữ dựa trên mạng nơ-ron thường có cấu trúc với nhiều hidden layer. Hidden layer đóng một vai trò quan trọng trong quá trình học và hiểu ngôn ngữ. Có thể nói các mạng nơ ron ẩn này là thành phần chính để mô hình thực hiện xác định trọng số cho các từ có thể xuất hiện tiếp theo.\\\n",
    "Trong quá trình huấn luyện các lớp này đã được học các đặc trưng ngôn ngữ ẩn. Các trọng số của hidden layer được điều chỉnh thông qua quá trình lan truyền ngược (backpropagation) để cực tiểu hóa sai số giữa dự đoán và thực tế.\\\n",
    "\n",
    "Mạng nơ ron ẩn giúp mô hình học và hiểu ngữ cảnh, tạo ra dự đoán từ tiếp theo có ý nghĩa chứ không còn là các câu vô nghĩa lắp ghép từ những từ xuất hiện với tấn suât lớn. \n",
    "Mạng nơ-ron có thể học các biểu diễn phức tạp của ngôn ngữ.\n",
    "Càng nhiều tham số cho các hidden layer, mô hình càng trở nên phức tạp và cần nhiều dữ liệu hơn để huấn luyện. Điều này sẽ khiến mô hình rất gần với ngôn ngữ con người sử dụng và ý nghĩa của văn bản được diễn đạt rõ ràng."
   ]
  },
  {
   "cell_type": "markdown",
   "metadata": {},
   "source": [
    "**Lớp đầu ra (Output layer)**\n",
    "Các giá trị ẩn từ hidden layers sau khi hoàn tất sẽ được truyền qua output layer để tạo ra dự đoán cho từ tiếp theo.\\\n",
    "Một hàm kích hoạt sẽ được sử dụng để chuyển đổi giá trị ẩn thành một phạm vi chấp nhận được cho dự đoán. Một cách đơn giản nhất đó là hàm `Softmax`. `Softmax` sẽ chuyển các giá trị ẩn thành một dãy các tỷ lệ các từ tiếp theo có thể xuất hiện.\\\n",
    "Và tất nhiên từ có xác suất xuất hiện cao nhât sẽ được chọn làm từ tiếp theo trong câu\\\n",
    "Đến đây quá trình dự đoán một từ đã hoàn thành. Cửa sổ sẽ tiếp tục trượt xuống một từ và bắt đầu lại quá trình dữ đoán cho từ thứ ${n+1} tiếp theo"
   ]
  }
 ],
 "metadata": {
  "kernelspec": {
   "display_name": "Python 3",
   "language": "python",
   "name": "python3"
  },
  "language_info": {
   "codemirror_mode": {
    "name": "ipython",
    "version": 3
   },
   "file_extension": ".py",
   "mimetype": "text/x-python",
   "name": "python",
   "nbconvert_exporter": "python",
   "pygments_lexer": "ipython3",
   "version": "3.11.4"
  }
 },
 "nbformat": 4,
 "nbformat_minor": 2
}
